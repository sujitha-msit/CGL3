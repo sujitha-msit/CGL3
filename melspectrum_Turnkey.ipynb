{
  "nbformat": 4,
  "nbformat_minor": 0,
  "metadata": {
    "accelerator": "GPU",
    "colab": {
      "provenance": [],
      "machine_shape": "hm",
      "include_colab_link": true
    },
    "kernelspec": {
      "display_name": "Python 3",
      "name": "python3"
    },
    "language_info": {
      "name": "python"
    }
  },
  "cells": [
    {
      "cell_type": "markdown",
      "metadata": {
        "id": "view-in-github",
        "colab_type": "text"
      },
      "source": [
        "<a href=\"https://colab.research.google.com/github/sujitha-msit/CGL3/blob/main/melspectrum_Turnkey.ipynb\" target=\"_parent\"><img src=\"https://colab.research.google.com/assets/colab-badge.svg\" alt=\"Open In Colab\"/></a>"
      ]
    },
    {
      "cell_type": "code",
      "metadata": {
        "id": "_bNIHMBzGICK"
      },
      "source": [
        "!pip install -q kaggle"
      ],
      "execution_count": null,
      "outputs": []
    },
    {
      "cell_type": "code",
      "metadata": {
        "colab": {
          "resources": {
            "http://localhost:8080/nbextensions/google.colab/files.js": {
              "data": "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",
              "headers": [
                [
                  "content-type",
                  "application/javascript"
                ]
              ],
              "ok": true,
              "status": 200,
              "status_text": ""
            }
          },
          "base_uri": "https://localhost:8080/",
          "height": 90
        },
        "id": "XZhMiAONGebA",
        "outputId": "8a31c9b7-4cb3-40c1-f777-06c2cda744e1"
      },
      "source": [
        "from google.colab import files\n",
        "files.upload()"
      ],
      "execution_count": null,
      "outputs": [
        {
          "output_type": "display_data",
          "data": {
            "text/html": [
              "\n",
              "     <input type=\"file\" id=\"files-b55bdcc6-ec9c-4d8d-8483-e4e28aab8260\" name=\"files[]\" multiple disabled\n",
              "        style=\"border:none\" />\n",
              "     <output id=\"result-b55bdcc6-ec9c-4d8d-8483-e4e28aab8260\">\n",
              "      Upload widget is only available when the cell has been executed in the\n",
              "      current browser session. Please rerun this cell to enable.\n",
              "      </output>\n",
              "      <script src=\"/nbextensions/google.colab/files.js\"></script> "
            ],
            "text/plain": [
              "<IPython.core.display.HTML object>"
            ]
          },
          "metadata": {
            "tags": []
          }
        },
        {
          "output_type": "stream",
          "text": [
            "Saving kaggle.json to kaggle.json\n"
          ],
          "name": "stdout"
        },
        {
          "output_type": "execute_result",
          "data": {
            "text/plain": [
              "{'kaggle.json': b'{\"username\":\"sujithajallepalli\",\"key\":\"f4e5848babd68d7955dfaa460110415d\"}'}"
            ]
          },
          "metadata": {
            "tags": []
          },
          "execution_count": 2
        }
      ]
    },
    {
      "cell_type": "code",
      "metadata": {
        "id": "lRd7TCslGo56"
      },
      "source": [
        "!mkdir ~/.kaggle\n",
        "! cp kaggle.json ~/.kaggle/\n",
        "! chmod 600 ~/.kaggle/kaggle.json"
      ],
      "execution_count": null,
      "outputs": []
    },
    {
      "cell_type": "code",
      "metadata": {
        "colab": {
          "base_uri": "https://localhost:8080/"
        },
        "id": "e5Rm347ZHCJI",
        "outputId": "9942c5bf-cc5d-4be0-be1c-b5c89bf2435c"
      },
      "source": [
        "! kaggle competitions download -c '11785-Spring2021-Hw1P2'"
      ],
      "execution_count": null,
      "outputs": [
        {
          "output_type": "stream",
          "text": [
            "Warning: Looks like you're using an outdated API Version, please consider updating (server 1.5.12 / client 1.5.4)\n",
            "Downloading test.npy.zip to /content\n",
            " 97% 314M/322M [00:14<00:00, 38.0MB/s]\n",
            "100% 322M/322M [00:14<00:00, 23.7MB/s]\n",
            "Downloading train.npy.zip to /content\n",
            "100% 3.51G/3.52G [01:50<00:00, 80.6MB/s]\n",
            "100% 3.52G/3.52G [01:50<00:00, 34.3MB/s]\n",
            "Downloading sample.csv.zip to /content\n",
            "  0% 0.00/3.43M [00:00<?, ?B/s]\n",
            "100% 3.43M/3.43M [00:00<00:00, 94.1MB/s]\n",
            "Downloading dev_labels.npy.zip to /content\n",
            "  0% 0.00/500k [00:00<?, ?B/s]\n",
            "100% 500k/500k [00:00<00:00, 151MB/s]\n",
            "Downloading dev.npy.zip to /content\n",
            " 96% 297M/310M [00:10<00:00, 25.2MB/s]\n",
            "100% 310M/310M [00:10<00:00, 30.4MB/s]\n",
            "Downloading train_labels.npy to /content\n",
            " 92% 130M/142M [00:01<00:00, 79.7MB/s]\n",
            "100% 142M/142M [00:01<00:00, 107MB/s] \n",
            "Downloading phonemes.txt to /content\n",
            "  0% 0.00/518 [00:00<?, ?B/s]\n",
            "100% 518/518 [00:00<00:00, 413kB/s]\n"
          ],
          "name": "stdout"
        }
      ]
    },
    {
      "cell_type": "code",
      "metadata": {
        "id": "QHGPRNNcHOqp"
      },
      "source": [
        "!mkdir test\n",
        "!mkdir train\n",
        "!mkdir dev"
      ],
      "execution_count": null,
      "outputs": []
    },
    {
      "cell_type": "code",
      "metadata": {
        "colab": {
          "background_save": true,
          "base_uri": "https://localhost:8080/"
        },
        "id": "6O9ixy1nHf9u",
        "outputId": "807b2be0-48a0-4ed5-9625-176ae9c72bab"
      },
      "source": [
        "! unzip train.npy.zip -d train\n",
        "!unzip test.npy.zip -d test\n",
        "!unzip dev.npy.zip -d dev\n"
      ],
      "execution_count": null,
      "outputs": [
        {
          "output_type": "stream",
          "text": [
            "Archive:  train.npy.zip\n",
            "  inflating: train/train.npy         \n",
            "Archive:  test.npy.zip\n",
            "  inflating: test/test.npy           \n",
            "Archive:  dev.npy.zip\n",
            "  inflating: dev/dev.npy             \n"
          ],
          "name": "stdout"
        }
      ]
    },
    {
      "cell_type": "code",
      "metadata": {
        "colab": {
          "base_uri": "https://localhost:8080/"
        },
        "id": "wxHY4V-eIWlS",
        "outputId": "77788797-f83d-4aa2-cb9a-a6961b3bd261"
      },
      "source": [
        "!unzip dev_labels.npy.zip -d dev"
      ],
      "execution_count": null,
      "outputs": [
        {
          "output_type": "stream",
          "text": [
            "Archive:  dev_labels.npy.zip\n",
            "replace dev/dev_labels.npy? [y]es, [n]o, [A]ll, [N]one, [r]ename: y\n",
            "  inflating: dev/dev_labels.npy      \n"
          ],
          "name": "stdout"
        }
      ]
    },
    {
      "cell_type": "code",
      "metadata": {
        "id": "FzfUSXoCJYcc",
        "colab": {
          "base_uri": "https://localhost:8080/"
        },
        "outputId": "c32541fd-0db0-4544-a31c-c3f272c8a5a7"
      },
      "source": [
        "import numpy as np\n",
        "!rm *.npy.zip"
      ],
      "execution_count": null,
      "outputs": [
        {
          "output_type": "stream",
          "text": [
            "rm: cannot remove 'train.npy.zip': No such file or directory\n"
          ],
          "name": "stdout"
        }
      ]
    },
    {
      "cell_type": "code",
      "metadata": {
        "id": "umSnKIrQIaYo"
      },
      "source": [
        "import numpy as np\n",
        "\n",
        "train_data=np.load('train/train.npy',allow_pickle=True)\n",
        "train_labels=np.load('train_labels.npy',allow_pickle=True)\n",
        "# test_data=np.load('test/test.npy',allow_pickle=True)\n",
        "# validation_data=np.load('dev/dev.npy',allow_pickle=True)\n",
        "# validation_labels=np.load('dev/dev_labels.npy',allow_pickle=True)"
      ],
      "execution_count": null,
      "outputs": []
    },
    {
      "cell_type": "code",
      "metadata": {
        "id": "7I9qsA1oKPLN"
      },
      "source": [
        "# print(\"train_data\",train_data[1])\n",
        "# print(\"test_data\",test_data[1].shape)\n",
        "# print(\"train_labels\",train_labels[1].shape)\n",
        "# print(\"validation_data\",validation_data[1].shape)\n",
        "# print(\"validation_labels\",validation_labels[1].shape)"
      ],
      "execution_count": null,
      "outputs": []
    },
    {
      "cell_type": "code",
      "metadata": {
        "id": "DsPkaEhHQK0D"
      },
      "source": [],
      "execution_count": null,
      "outputs": []
    },
    {
      "cell_type": "code",
      "metadata": {
        "colab": {
          "base_uri": "https://localhost:8080/"
        },
        "id": "2uu0W6qJD67i",
        "outputId": "1881650d-956a-472e-973a-629ab79d8ca5"
      },
      "source": [
        "# import numpy as np\n",
        "# np.vstack(data_x)\n",
        "# data_x.shape"
      ],
      "execution_count": null,
      "outputs": [
        {
          "output_type": "execute_result",
          "data": {
            "text/plain": [
              "(2,)"
            ]
          },
          "metadata": {
            "tags": []
          },
          "execution_count": 29
        }
      ]
    },
    {
      "cell_type": "code",
      "metadata": {
        "colab": {
          "base_uri": "https://localhost:8080/"
        },
        "id": "NkafjeEeYtbC",
        "outputId": "d2adb1cd-6300-40f1-fd72-5fa5258b2df2"
      },
      "source": [
        "# validation_data.shape\n",
        "# validation_labels.shape"
      ],
      "execution_count": null,
      "outputs": [
        {
          "output_type": "execute_result",
          "data": {
            "text/plain": [
              "(2200,)"
            ]
          },
          "metadata": {
            "tags": []
          },
          "execution_count": 13
        }
      ]
    },
    {
      "cell_type": "code",
      "metadata": {
        "id": "D-tDLqK-Y4-v"
      },
      "source": [
        "import numpy as np\n",
        "train_data=np.concatenate(train_data,axis=0)\n",
        "\n"
      ],
      "execution_count": null,
      "outputs": []
    },
    {
      "cell_type": "code",
      "metadata": {
        "colab": {
          "base_uri": "https://localhost:8080/",
          "height": 166
        },
        "id": "UZn8SweOUw22",
        "outputId": "12ae92e1-6d18-4912-a227-1191d22a7e17"
      },
      "source": [],
      "execution_count": null,
      "outputs": [
        {
          "output_type": "error",
          "ename": "NameError",
          "evalue": "ignored",
          "traceback": [
            "\u001b[0;31m---------------------------------------------------------------------------\u001b[0m",
            "\u001b[0;31mNameError\u001b[0m                                 Traceback (most recent call last)",
            "\u001b[0;32m<ipython-input-1-8852729f0f48>\u001b[0m in \u001b[0;36m<module>\u001b[0;34m()\u001b[0m\n\u001b[0;32m----> 1\u001b[0;31m \u001b[0mtrain_data\u001b[0m\u001b[0;34m.\u001b[0m\u001b[0mshape\u001b[0m\u001b[0;34m\u001b[0m\u001b[0;34m\u001b[0m\u001b[0m\n\u001b[0m",
            "\u001b[0;31mNameError\u001b[0m: name 'train_data' is not defined"
          ]
        }
      ]
    },
    {
      "cell_type": "code",
      "metadata": {
        "id": "X7SkWAtGLmnC"
      },
      "source": [
        "import numpy as np\n",
        "import torch\n",
        "torch.utils.data.Dataset\n",
        "class MyDataset(torch.utils.data.Dataset):\n",
        "    def __init__(self, X, Y, context):\n",
        "        # Store paramters as class variables\n",
        "        self.X=X\n",
        "        self.Y=Y\n",
        "        self.context=context\n",
        "        # Taking the data in variable x and arraning all the frames in one list\n",
        "        da=[]\n",
        "        for x in X:\n",
        "          for i in x:\n",
        "            da.append(i)\n",
        "\n",
        "        self.X=np.array(da,dtype=np.float)\n",
        "      #  padding the data at starting of the data and ending of  the data with context no of rows\n",
        "        self.X=np.pad(self.X,pad_width=((self.context,self.context),(0,0)),mode=\"constant\",constant_values=0)\n",
        "        da=[]\n",
        "        for y in Y:\n",
        "          for j in y:\n",
        "            da.append(j)\n",
        "        self.Y=np.array(da,dtype=np.float)\n",
        "        # print(\"self.Y at index 0 istype is:\",self.Y[0])\n",
        "\n",
        "\n",
        "\n",
        "\n",
        "    def __len__(self):\n",
        "        # print(self.Y.shape[0])\n",
        "        return len(self.Y)\n",
        "\n",
        "    def __getitem__(self,index):\n",
        "\n",
        "\n",
        "        start_index=index\n",
        "        end_index=index+2*self.context+1\n",
        "        xx=self.X[start_index:end_index,:].flatten()\n",
        "        # print(xx)\n",
        "        # xx=self.X[index]\n",
        "        yy=self.Y[index]\n",
        "        return xx,yy\n",
        "    def collate_fn(batch):\n",
        "\n",
        "        ### Select all data from batch (1 line)\n",
        "        batch_x = [x for x,y in batch]\n",
        "        # print(batch_x)\n",
        "        ### Select all labels from batch (1 line)\n",
        "        batch_y = [y for x,y in batch]\n",
        "\n",
        "        ### Convert batched data and labels to tensors (2 lines)\n",
        "        batch_x = torch.as_tensor(batch_x)\n",
        "        batch_y = torch.as_tensor(batch_y)\n",
        "\n",
        "        ### Return batched data and labels (1 line)\n",
        "        return batch_x, batch_y\n"
      ],
      "execution_count": null,
      "outputs": []
    },
    {
      "cell_type": "code",
      "metadata": {
        "id": "-GZQd4z6QDOz"
      },
      "source": [],
      "execution_count": null,
      "outputs": []
    },
    {
      "cell_type": "code",
      "metadata": {
        "id": "2qos8mt5GJqu"
      },
      "source": [
        "# dataset4 = MyDataset(data_x, data_y,context=2)\n",
        "\n",
        "# dataloader4 = torch.utils.data.DataLoader(dataset4,\n",
        "#                                           batch_size=3,\n",
        "#                                           shuffle=False,\n",
        "#                                           collate_fn=MyDataset.collate_fn)\n",
        "\n",
        "# for i, batch in enumerate(dataloader4):\n",
        "#   if i==0:\n",
        "#     print(\"Batch\", i, \":\\n\", batch, \"\\n\")"
      ],
      "execution_count": null,
      "outputs": []
    },
    {
      "cell_type": "code",
      "metadata": {
        "id": "Ic1Y3-L5Y61k"
      },
      "source": [],
      "execution_count": null,
      "outputs": []
    },
    {
      "cell_type": "code",
      "metadata": {
        "id": "D_ExjvMuOTDf"
      },
      "source": [
        "cuda = torch.cuda.is_available()\n",
        "\n",
        "num_workers=2 if cuda else 0\n",
        "context=5\n",
        "dataset=MyDataset(train_data,train_labels,context)\n",
        "train_loader_args = dict(shuffle=True, batch_size=512, num_workers=num_workers, pin_memory=True) if cuda\\\n",
        "                    else dict(shuffle=True, batch_size=64)\n",
        "train_loader=torch.utils.data.DataLoader(dataset,**train_loader_args)\n"
      ],
      "execution_count": null,
      "outputs": []
    },
    {
      "cell_type": "code",
      "metadata": {
        "id": "fattWZv9UXw0"
      },
      "source": [
        "import torch.nn as nn\n",
        "class Simple_MLP(nn.Module):\n",
        "    def __init__(self,input_output_data):\n",
        "        super(Simple_MLP, self).__init__()\n",
        "        self.input_output_data=input_output_data\n",
        "        layers=[]\n",
        "        for i in range(len(self.input_output_data)-2):\n",
        "          layers.append(nn.Linear(input_output_data[i],input_output_data[i+1]))\n",
        "          layers.append(nn.ReLU())\n",
        "        layers.append(nn.Linear(input_output_data[-2],input_output_data[-1]))\n",
        "\n",
        "        self.net=nn.Sequential(*layers)\n",
        "\n",
        "    def forward(self, x):\n",
        "        # make sure to return the output after\n",
        "        # call the network created above\n",
        "        return self.net(x.float())\n",
        "\n"
      ],
      "execution_count": null,
      "outputs": []
    },
    {
      "cell_type": "code",
      "metadata": {
        "id": "q8A8ZFZxZu7V"
      },
      "source": [
        "import torch.optim as optim\n",
        "model=Simple_MLP([440,320,225,71])\n",
        "criterion=nn.CrossEntropyLoss()\n",
        "optimizer=optim.Adam(model.parameters())\n",
        "device=torch.device(\"cuda\" if cuda else \"cpu\")\n",
        "model.to(device)\n",
        "print(model)"
      ],
      "execution_count": null,
      "outputs": []
    },
    {
      "cell_type": "code",
      "metadata": {
        "id": "saR5bL5Pb64r"
      },
      "source": [
        "import time\n",
        "def train_epoch(model, train_loader, criterion, optimizer):\n",
        "\n",
        "  print(\"Training....\")\n",
        "  model.train()\n",
        "\n",
        "  running_loss=0.0\n",
        "  total_predictions=0.0\n",
        "  correct_predictions=0.0\n",
        "  start_time=time.time()\n",
        "\n",
        "  for batch_idx, (data, target) in enumerate(train_loader):\n",
        "    print(batch_idx)\n",
        "    optimizer.zero_grad() #hackward() accumulates gradients\n",
        "    data=data.to(device)\n",
        "\n",
        "    target=target.to(device) #data & sodel on same device\n",
        "\n",
        "    outputs=model(data)\n",
        "    loss=criterion(outputs, target.long())\n",
        "    running_loss+=loss.item()\n",
        "\n",
        "    loss.backward()\n",
        "    optimizer.step()\n",
        "\n",
        "\n",
        "    # Here the accuracy can be calculaated with the no training examples being\n",
        "    # correclty predicted i,e target is the y and outputs is y^)\n",
        "    # correct_predictions=torch.sum(outputs==target)\n",
        "    # total_predictions=outputs.shape[0]\n",
        "    # print(accuracy)\n",
        "    # print(outputs.shape,target.shape)\n",
        "\n",
        "    value,index=torch.max(outputs,1)\n",
        "    correct_predictions=torch.sum(index==target)\n",
        "    total_predictions=outputs.shape[0]\n",
        "    # print(value,index,\"--------------------\")\n",
        "\n",
        "    # print(outputs[1],target[1],\"===============================\",\"index is :\",value)\n",
        "    # if index==target[1]:\n",
        "    #   print(index,target[1])\n",
        "    # # ,target[1])\n",
        "\n",
        "\n",
        "    end_time=time.time()\n",
        "\n",
        "    running_loss/=len(train_loader)\n",
        "\n",
        "    print(\"Training Loss:\", running_loss, \"Time: \",end_time-start_time,'s')\n",
        "\n",
        "    acc=(correct_predictions/total_predictions)*100.0\n",
        "\n",
        "\n",
        "    print('Training Accuracy:', acc, \"% \")\n",
        "  return running_loss ,acc\n",
        ""
      ],
      "execution_count": null,
      "outputs": []
    },
    {
      "cell_type": "code",
      "metadata": {
        "id": "XSDC4v9JWVV7"
      },
      "source": [
        "cuda = torch.cuda.is_available()\n",
        "\n",
        "num_workers=2 if cuda else 0\n",
        "context=5\n",
        "val_dataset=MyDataset(validation_data,validation_labels,context)\n",
        "val_loader_args = dict(shuffle=False, batch_size=512, num_workers=num_workers, pin_memory=True) if cuda\\\n",
        "                    else dict(shuffle=False, batch_size=64)\n",
        "val_loader=torch.utils.data.DataLoader(val_dataset,**val_loader_args)\n"
      ],
      "execution_count": null,
      "outputs": []
    },
    {
      "cell_type": "code",
      "metadata": {
        "id": "h9Wc-RV4WLDf"
      },
      "source": [
        "# validation data model lis tested.\n",
        "import time\n",
        "def val_epoch(model, val_loader, criterion, optimizer):\n",
        "\n",
        "  print(\"validating....\")\n",
        "  model.eval()\n",
        "\n",
        "  running_loss=0.0\n",
        "  total_predictions=0.0\n",
        "  correct_predictions=0.0\n",
        "  start_time=time.time()\n",
        "\n",
        "  for batch_idx, (data, target) in enumerate(train_loader):\n",
        "    print(batch_idx)\n",
        "    optimizer.zero_grad() #hackward() accumulates gradients\n",
        "    data=data.to(device)\n",
        "\n",
        "    target=target.to(device) #data & sodel on same device\n",
        "\n",
        "    outputs=model(data)\n",
        "    loss=criterion(outputs, target.long())\n",
        "    running_loss+=loss.item()\n",
        "\n",
        "    loss.backward()\n",
        "    optimizer.step()\n",
        "\n",
        "\n",
        "    # Here the accuracy can be calculaated with the no training examples being\n",
        "    # correclty predicted i,e target is the y and outputs is y^)\n",
        "    # correct_predictions=torch.sum(outputs==target)\n",
        "    # total_predictions=outputs.shape[0]\n",
        "    # print(accuracy)\n",
        "    # print(outputs.shape,target.shape)\n",
        "\n",
        "    value,index=torch.max(outputs,1)\n",
        "    correct_predictions=torch.sum(index==target)\n",
        "    total_predictions=outputs.shape[0]\n",
        "    # print(value,index,\"--------------------\")\n",
        "\n",
        "    # print(outputs[1],target[1],\"===============================\",\"index is :\",value)\n",
        "    # if index==target[1]:\n",
        "    #   print(index,target[1])\n",
        "    # # ,target[1])\n",
        "\n",
        "\n",
        "    end_time=time.time()\n",
        "\n",
        "    running_loss/=len(train_loader)\n",
        "\n",
        "    print(\"testing Loss:\", running_loss, \"Time: \",end_time-start_time,'s')\n",
        "\n",
        "    acc=(correct_predictions/total_predictions)*100.0\n",
        "\n",
        "\n",
        "    print('Testing Accuracy:', acc, \"% \")\n",
        "  return running_loss ,acc\n",
        ""
      ],
      "execution_count": null,
      "outputs": []
    },
    {
      "cell_type": "code",
      "metadata": {
        "id": "OQRy0igEfRBk"
      },
      "source": [
        "train_epoch(model, train_loader, criterion, optimizer)"
      ],
      "execution_count": null,
      "outputs": []
    },
    {
      "cell_type": "code",
      "metadata": {
        "id": "8-otQq28VfGx"
      },
      "source": [
        "val_epoch(model, val_loader, criterion, optimizer)"
      ],
      "execution_count": null,
      "outputs": []
    },
    {
      "cell_type": "code",
      "metadata": {
        "id": "e25u3Sx6q3Tj"
      },
      "source": [
        "import numpy as np\n",
        "import torch\n",
        "torch.utils.data.Dataset\n",
        "class MyDatasettest(torch.utils.data.Dataset):\n",
        "    def __init__(self, X, context):\n",
        "        # Store paramters as class variables\n",
        "        self.X=X\n",
        "\n",
        "        self.context=context\n",
        "        # Taking the data in variable x and arraning all the frames in one list\n",
        "        da=[]\n",
        "        for x in X:\n",
        "          for i in x:\n",
        "            da.append(i)\n",
        "\n",
        "        self.X=np.array(da,dtype=np.float)\n",
        "      #  padding the data at starting of the data and ending of  the data with context no of rows\n",
        "        self.length=self.X.shape[0]\n",
        "        self.X=np.pad(self.X,pad_width=((self.context,self.context),(0,0)),mode=\"constant\",constant_values=0)\n",
        "        # da=[]\n",
        "        # for y in Y:\n",
        "        #   for j in y:\n",
        "        #     da.append(j)\n",
        "        # self.Y=np.array(da,dtype=np.float)\n",
        "        # print(\"self.Y at index 0 istype is:\",self.Y[0])\n",
        "\n",
        "\n",
        "\n",
        "\n",
        "    def __len__(self):\n",
        "        # print(self.Y.shape[0])\n",
        "        return self.length\n",
        "\n",
        "    def __getitem__(self,index):\n",
        "\n",
        "\n",
        "        start_index=index\n",
        "        end_index=index+2*self.context+1\n",
        "        xx=self.X[start_index:end_index,:].flatten()\n",
        "        # print(xx)\n",
        "        # xx=self.X[index]\n",
        "        # yy=self.Y[index]\n",
        "        return xx\n",
        "    def collate_fn(batch):\n",
        "\n",
        "        ### Select all data from batch (1 line)\n",
        "        batch_x =batch\n",
        "        # print(batch_x)\n",
        "        ### Select all labels from batch (1 line)\n",
        "        # batch_y = [y for x in batch]\n",
        "\n",
        "        ### Convert batched data and labels to tensors (2 lines)\n",
        "        batch_x = torch.as_tensor(batch_x)\n",
        "        # batch_y = torch.as_tensor(batch_y)\n",
        "\n",
        "        ### Return batched data and labels (1 line)\n",
        "        return batch_x\n",
        ""
      ],
      "execution_count": null,
      "outputs": []
    },
    {
      "cell_type": "code",
      "metadata": {
        "id": "k9SSEj97qT4R"
      },
      "source": [
        "cuda = torch.cuda.is_available()\n",
        "\n",
        "num_workers=2 if cuda else 0\n",
        "context=5\n",
        "dataset=MyDatasettest(test_data,context)\n",
        "train_loader_args = dict(shuffle=True, batch_size=512, num_workers=num_workers, pin_memory=True) if cuda\\\n",
        "                    else dict(shuffle=True, batch_size=64)\n",
        "test_loader=torch.utils.data.DataLoader(dataset,**train_loader_args)\n"
      ],
      "execution_count": null,
      "outputs": []
    },
    {
      "cell_type": "code",
      "metadata": {
        "id": "39_yKimypIZx"
      },
      "source": [
        "\n",
        "# test data model is tested.\n",
        "import time\n",
        "def test_epoch(model, test_loader):\n",
        "  indexes=[]\n",
        "  print(\"testing data is taken....\")\n",
        "  model.eval()\n",
        "\n",
        "  running_loss=0.0\n",
        "  total_predictions=0.0\n",
        "  correct_predictions=0.0\n",
        "  start_time=time.time()\n",
        "  result=[]\n",
        "\n",
        "  for batch_idx, data in enumerate(test_loader):\n",
        "\n",
        "    data=data.to(device)\n",
        "    outputs=model(data)\n",
        "    # print(outputs.shape)\n",
        "    value,index=torch.max(outputs,1)\n",
        "    result.append(index.tolist())\n",
        "  return result\n",
        "\n",
        "    # Here the accuracy can be calculaated with the no training examples being\n",
        "    # correclty predicted i,e target is the y and outputs is y^)\n",
        "    # correct_predictions=torch.sum(outputs==target)\n",
        "    # total_predictions=outputs.shape[0]\n",
        "    # print(accuracy)\n",
        "    # print(outputs.shape,target.shape)\n",
        "\n",
        "\n",
        "    # print(value,index,\"--------------------\")\n",
        "\n",
        "    # print(outputs[1],target[1],\"===============================\",\"index is :\",value)\n",
        "    # if index==target[1]:\n",
        "    #   print(index,target[1])\n",
        "    # # ,target[1])\n",
        "\n",
        "\n",
        "\n",
        "\n",
        "result=test_epoch(model, test_loader)"
      ],
      "execution_count": null,
      "outputs": []
    },
    {
      "cell_type": "code",
      "metadata": {
        "id": "zgCpZIt20Ans"
      },
      "source": [
        "tensor_result=torch.as_tensor(result[0:-1]).flatten()\n",
        "tensor_result.shape\n",
        "last=torch.as_tensor(result[-1])\n",
        "final_tensor=torch.hstack((tensor_result,last))\n",
        "final=final_tensor.tolist()\n",
        "from pandas import DataFrame\n",
        "# your_list = ['item1', 'item2', 'item3',...]\n",
        "df = DataFrame (final,columns=['labels'])\n",
        "df.to_csv(\"sample.csv\",index_label='id')\n",
        "df.head\n",
        "\n"
      ],
      "execution_count": null,
      "outputs": []
    },
    {
      "cell_type": "code",
      "metadata": {
        "colab": {
          "base_uri": "https://localhost:8080/"
        },
        "id": "Yq1FDsXimwDS",
        "outputId": "78fe427b-bb79-4734-b07d-c97770b9711a"
      },
      "source": [
        "import torch\n",
        "import numpy as np\n",
        "X = np.array([ np.array([[ 2,  3,  4],\n",
        "                         [ 4,  6,  8],\n",
        "                         [ 6,  9, 12],\n",
        "                         [ 8, 12, 16]]),\n",
        "               np.array([[10, 15, 20],\n",
        "                         [12, 18, 24]]) ], dtype=object)\n",
        "\n",
        "Y = np.array([ np.array([1, 2, 3, 4]),\n",
        "               np.array([5, 6])], dtype=object)\n",
        "X.shape\n",
        "np.vstack(X)"
      ],
      "execution_count": null,
      "outputs": [
        {
          "output_type": "execute_result",
          "data": {
            "text/plain": [
              "array([[ 2,  3,  4],\n",
              "       [ 4,  6,  8],\n",
              "       [ 6,  9, 12],\n",
              "       [ 8, 12, 16],\n",
              "       [10, 15, 20],\n",
              "       [12, 18, 24]])"
            ]
          },
          "metadata": {
            "tags": []
          },
          "execution_count": 28
        }
      ]
    }
  ]
}